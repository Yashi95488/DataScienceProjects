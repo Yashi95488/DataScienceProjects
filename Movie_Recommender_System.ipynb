{
 "cells": [
  {
   "cell_type": "code",
   "execution_count": 2,
   "id": "2f4422bf",
   "metadata": {},
   "outputs": [],
   "source": [
    "# Import necessary libraries\n",
    "import pandas as pd\n",
    "import numpy as np\n",
    "import seaborn as sns\n",
    "import matplotlib.pyplot as plt\n",
    "from surprise import Dataset, Reader, SVD\n",
    "from surprise.model_selection import train_test_split  # Ensure this import is included\n",
    "from surprise.model_selection import cross_validate\n",
    "from sklearn.feature_extraction.text import CountVectorizer\n",
    "from sklearn.metrics.pairwise import cosine_similarity\n",
    "import logging\n",
    "import ast"
   ]
  },
  {
   "cell_type": "code",
   "execution_count": 3,
   "id": "52dd6c89",
   "metadata": {},
   "outputs": [],
   "source": [
    "# Set up logging\n",
    "logging.basicConfig(level=logging.INFO)"
   ]
  },
  {
   "cell_type": "code",
   "execution_count": 4,
   "id": "d9cf7d2a",
   "metadata": {},
   "outputs": [],
   "source": [
    "# Data Collection\n",
    "# Specify the full path to the files  \n",
    "file_path_movies = '/Users/yashikasingh/Downloads/movies_metadata.csv'\n",
    "file_path_ratings = '/Users/yashikasingh/Downloads/ratings_small.csv'\n",
    "file_path_keywords = '/Users/yashikasingh/Downloads/keywords.csv'\n",
    "file_path_credits = '/Users/yashikasingh/Downloads/credits.csv'\n",
    "\n",
    "# Load the datasets\n",
    "movies = pd.read_csv(file_path_movies, low_memory=False)\n",
    "ratings = pd.read_csv(file_path_ratings, low_memory=False)  \n",
    "keywords = pd.read_csv(file_path_keywords, low_memory=False)\n",
    "credits = pd.read_csv(file_path_credits, low_memory=False)"
   ]
  },
  {
   "cell_type": "code",
   "execution_count": 5,
   "id": "b25d6f01",
   "metadata": {},
   "outputs": [
    {
     "name": "stdout",
     "output_type": "stream",
     "text": [
      "adult                        0\n",
      "belongs_to_collection    40972\n",
      "budget                       0\n",
      "genres                       0\n",
      "homepage                 37684\n",
      "id                           0\n",
      "imdb_id                     17\n",
      "original_language           11\n",
      "original_title               0\n",
      "overview                   954\n",
      "popularity                   5\n",
      "poster_path                386\n",
      "production_companies         3\n",
      "production_countries         3\n",
      "release_date                87\n",
      "revenue                      6\n",
      "runtime                    263\n",
      "spoken_languages             6\n",
      "status                      87\n",
      "tagline                  25054\n",
      "title                        6\n",
      "video                        6\n",
      "vote_average                 6\n",
      "vote_count                   6\n",
      "dtype: int64\n",
      "userId       0\n",
      "movieId      0\n",
      "rating       0\n",
      "timestamp    0\n",
      "dtype: int64\n",
      "id          0\n",
      "keywords    0\n",
      "dtype: int64\n",
      "cast    0\n",
      "crew    0\n",
      "id      0\n",
      "dtype: int64\n"
     ]
    }
   ],
   "source": [
    "# Check for missing values\n",
    "print(movies.isnull().sum())\n",
    "print(ratings.isnull().sum())\n",
    "print(keywords.isnull().sum())\n",
    "print(credits.isnull().sum())"
   ]
  },
  {
   "cell_type": "code",
   "execution_count": 6,
   "id": "9ce384b1",
   "metadata": {},
   "outputs": [],
   "source": [
    "# Drop rows with missing values if necessary\n",
    "movies = movies.dropna()\n",
    "ratings = ratings.dropna()\n",
    "keywords = keywords.dropna()\n",
    "credits = credits.dropna()"
   ]
  },
  {
   "cell_type": "code",
   "execution_count": 7,
   "id": "3ba9a579",
   "metadata": {},
   "outputs": [
    {
     "name": "stdout",
     "output_type": "stream",
     "text": [
      "Initial Movies Data:\n",
      "     adult                              belongs_to_collection    budget  \\\n",
      "9    False  {'id': 645, 'name': 'James Bond Collection', '...  58000000   \n",
      "68   False  {'id': 43563, 'name': 'Friday Collection', 'po...   3500000   \n",
      "69   False  {'id': 10924, 'name': 'From Dusk Till Dawn Col...  19000000   \n",
      "153  False  {'id': 439053, 'name': 'Brooklyn Cigar Store C...   2000000   \n",
      "178  False  {'id': 286162, 'name': 'Power Rangers Collecti...  15000000   \n",
      "\n",
      "                                                genres  \\\n",
      "9    [{'id': 12, 'name': 'Adventure'}, {'id': 28, '...   \n",
      "68                      [{'id': 35, 'name': 'Comedy'}]   \n",
      "69   [{'id': 27, 'name': 'Horror'}, {'id': 28, 'nam...   \n",
      "153                     [{'id': 35, 'name': 'Comedy'}]   \n",
      "178  [{'id': 28, 'name': 'Action'}, {'id': 12, 'nam...   \n",
      "\n",
      "                                              homepage     id    imdb_id  \\\n",
      "9         http://www.mgm.com/view/movie/757/Goldeneye/    710  tt0113189   \n",
      "68       http://www.newline.com/properties/friday.html  10634  tt0113118   \n",
      "69   http://www.miramax.com/movie/from-dusk-till-dawn/    755  tt0116367   \n",
      "153         http://miramax.com/movie/blue-in-the-face/   5894  tt0112541   \n",
      "178                       http://www.powerrangers.com/   9070  tt0113820   \n",
      "\n",
      "    original_language                           original_title  \\\n",
      "9                  en                                GoldenEye   \n",
      "68                 en                                   Friday   \n",
      "69                 en                      From Dusk Till Dawn   \n",
      "153                en                         Blue in the Face   \n",
      "178                en  Mighty Morphin Power Rangers: The Movie   \n",
      "\n",
      "                                              overview  ... release_date  \\\n",
      "9    James Bond must unmask the mysterious head of ...  ...   1995-11-16   \n",
      "68   Craig and Smokey are two guys in Los Angeles h...  ...   1995-04-26   \n",
      "69   Seth Gecko and his younger brother Richard are...  ...   1996-01-19   \n",
      "153  Auggie runs a small tobacco shop in Brooklyn, ...  ...   1995-09-15   \n",
      "178  Power up with six incredible teens who out-man...  ...   1995-06-30   \n",
      "\n",
      "         revenue runtime                                   spoken_languages  \\\n",
      "9    352194034.0   130.0  [{'iso_639_1': 'en', 'name': 'English'}, {'iso...   \n",
      "68    28215918.0    91.0           [{'iso_639_1': 'en', 'name': 'English'}]   \n",
      "69    25836616.0   108.0  [{'iso_639_1': 'en', 'name': 'English'}, {'iso...   \n",
      "153    1275000.0    83.0           [{'iso_639_1': 'en', 'name': 'English'}]   \n",
      "178   66000000.0    92.0           [{'iso_639_1': 'en', 'name': 'English'}]   \n",
      "\n",
      "       status                                            tagline  \\\n",
      "9    Released               No limits. No fears. No substitutes.   \n",
      "68   Released  A lot can go down between thursday and saturda...   \n",
      "69   Released  One night is all that stands between them and ...   \n",
      "153  Released                    Welcome to the planet Brooklyn.   \n",
      "178  Released                                   The Power Is On!   \n",
      "\n",
      "                                       title  video vote_average vote_count  \n",
      "9                                  GoldenEye  False          6.6     1194.0  \n",
      "68                                    Friday  False          7.0      513.0  \n",
      "69                       From Dusk Till Dawn  False          6.9     1644.0  \n",
      "153                         Blue in the Face  False          6.8       28.0  \n",
      "178  Mighty Morphin Power Rangers: The Movie  False          5.2      153.0  \n",
      "\n",
      "[5 rows x 24 columns]\n"
     ]
    }
   ],
   "source": [
    "# Check the first few rows of the DataFrame\n",
    "print(\"Initial Movies Data:\")\n",
    "print(movies.head())"
   ]
  },
  {
   "cell_type": "code",
   "execution_count": 8,
   "id": "c96d41dc",
   "metadata": {},
   "outputs": [
    {
     "name": "stdout",
     "output_type": "stream",
     "text": [
      "              userId        movieId         rating     timestamp\n",
      "count  100004.000000  100004.000000  100004.000000  1.000040e+05\n",
      "mean      347.011310   12548.664363       3.543608  1.129639e+09\n",
      "std       195.163838   26369.198969       1.058064  1.916858e+08\n",
      "min         1.000000       1.000000       0.500000  7.896520e+08\n",
      "25%       182.000000    1028.000000       3.000000  9.658478e+08\n",
      "50%       367.000000    2406.500000       4.000000  1.110422e+09\n",
      "75%       520.000000    5418.000000       4.000000  1.296192e+09\n",
      "max       671.000000  163949.000000       5.000000  1.476641e+09\n",
      "   userId  movieId  rating   timestamp\n",
      "0       1       31     2.5  1260759144\n",
      "1       1     1029     3.0  1260759179\n",
      "2       1     1061     3.0  1260759182\n",
      "3       1     1129     2.0  1260759185\n",
      "4       1     1172     4.0  1260759205\n"
     ]
    }
   ],
   "source": [
    "# Exploratory Data Analysis (EDA)\n",
    "# Basic statistics\n",
    "print(ratings.describe())\n",
    "print(ratings.head())"
   ]
  },
  {
   "cell_type": "code",
   "execution_count": 9,
   "id": "29aad65b",
   "metadata": {},
   "outputs": [
    {
     "data": {
      "image/png": "[encoded data removed]",
      "text/plain": [
       "<Figure size 720x360 with 1 Axes>"
      ]
     },
     "metadata": {
      "needs_background": "light"
     },
     "output_type": "display_data"
    }
   ],
   "source": [
    "# Histogram of ratings\n",
    "plt.figure(figsize=(10, 5))\n",
    "sns.histplot(ratings['rating'], bins=30, kde=True)\n",
    "plt.title('Distribution of Movie Ratings')\n",
    "plt.xlabel('Rating')\n",
    "plt.ylabel('Count')\n",
    "plt.show()"
   ]
  },
  {
   "cell_type": "code",
   "execution_count": 10,
   "id": "aa90dc78",
   "metadata": {},
   "outputs": [
    {
     "data": {
      "image/png": "[encoded data removed]",
      "text/plain": [
       "<Figure size 720x360 with 1 Axes>"
      ]
     },
     "metadata": {
      "needs_background": "light"
     },
     "output_type": "display_data"
    }
   ],
   "source": [
    "# Number of ratings per movie\n",
    "ratings_per_movie = ratings.groupby('movieId').count()['rating']\n",
    "plt.figure(figsize=(10, 5))\n",
    "ratings_per_movie.hist(bins=50)\n",
    "plt.title('Number of Ratings per Movie')\n",
    "plt.xlabel('Number of Ratings')\n",
    "plt.ylabel('Count')\n",
    "plt.show()\n"
   ]
  },
  {
   "cell_type": "code",
   "execution_count": 11,
   "id": "4f8e9b26",
   "metadata": {},
   "outputs": [],
   "source": [
    "# Building the Recommender System\n",
    "# Define the Reader\n",
    "reader = Reader(rating_scale=(1, 5))  # Adjust the scale according to your dataset\n"
   ]
  },
  {
   "cell_type": "code",
   "execution_count": 12,
   "id": "59cc99c9",
   "metadata": {},
   "outputs": [],
   "source": [
    "# Prepare the data for Surprise\n",
    "reader = Reader(rating_scale=(1, 5))\n",
    "data = Dataset.load_from_df(ratings[['userId', 'movieId', 'rating']], reader)\n"
   ]
  },
  {
   "cell_type": "code",
   "execution_count": 13,
   "id": "1972ec15",
   "metadata": {},
   "outputs": [],
   "source": [
    "# Split the data into training and test sets\n",
    "trainset, testset = train_test_split(data, test_size=0.2)"
   ]
  },
  {
   "cell_type": "code",
   "execution_count": 14,
   "id": "f9889d28",
   "metadata": {},
   "outputs": [
    {
     "data": {
      "text/plain": [
       "<surprise.prediction_algorithms.matrix_factorization.SVD at 0x7f831dc1b990>"
      ]
     },
     "execution_count": 14,
     "metadata": {},
     "output_type": "execute_result"
    }
   ],
   "source": [
    "# Use SVD for matrix factorization\n",
    "svd = SVD()\n",
    "\n",
    "# Train the model on the full dataset\n",
    "trainset = data.build_full_trainset()\n",
    "svd.fit(trainset)\n",
    "\n"
   ]
  },
  {
   "cell_type": "code",
   "execution_count": 15,
   "id": "1ac098a1",
   "metadata": {},
   "outputs": [
    {
     "name": "stdout",
     "output_type": "stream",
     "text": [
      "Evaluating RMSE, MAE of algorithm SVD on 5 split(s).\n",
      "\n",
      "                  Fold 1  Fold 2  Fold 3  Fold 4  Fold 5  Mean    Std     \n",
      "RMSE (testset)    0.9046  0.8939  0.8949  0.8957  0.8930  0.8964  0.0042  \n",
      "MAE (testset)     0.6961  0.6891  0.6885  0.6866  0.6903  0.6901  0.0032  \n",
      "Fit time          0.47    0.56    0.47    0.55    0.47    0.50    0.04    \n",
      "Test time         0.13    0.07    0.13    0.07    0.07    0.10    0.03    \n"
     ]
    },
    {
     "data": {
      "text/plain": [
       "{'test_rmse': array([0.90461322, 0.89394291, 0.89485774, 0.89568067, 0.89300104]),\n",
       " 'test_mae': array([0.69610814, 0.68913713, 0.68849375, 0.68655118, 0.69029206]),\n",
       " 'fit_time': (0.4689610004425049,\n",
       "  0.560126781463623,\n",
       "  0.46920084953308105,\n",
       "  0.5528349876403809,\n",
       "  0.46697115898132324),\n",
       " 'test_time': (0.13123393058776855,\n",
       "  0.07468819618225098,\n",
       "  0.12821483612060547,\n",
       "  0.07426309585571289,\n",
       "  0.07314205169677734)}"
      ]
     },
     "execution_count": 15,
     "metadata": {},
     "output_type": "execute_result"
    }
   ],
   "source": [
    "# Cross-validation with fewer folds and jobs\n",
    "cross_validate(svd, data, measures=['RMSE', 'MAE'], cv=5, n_jobs=1, verbose=True)\n"
   ]
  },
  {
   "cell_type": "code",
   "execution_count": 16,
   "id": "eac3262a",
   "metadata": {},
   "outputs": [
    {
     "name": "stdout",
     "output_type": "stream",
     "text": [
      "9      [{'id': 12, 'name': 'Adventure'}, {'id': 28, '...\n",
      "68                        [{'id': 35, 'name': 'Comedy'}]\n",
      "69     [{'id': 27, 'name': 'Horror'}, {'id': 28, 'nam...\n",
      "153                       [{'id': 35, 'name': 'Comedy'}]\n",
      "178    [{'id': 28, 'name': 'Action'}, {'id': 12, 'nam...\n",
      "219                       [{'id': 35, 'name': 'Comedy'}]\n",
      "256    [{'id': 12, 'name': 'Adventure'}, {'id': 28, '...\n",
      "309                    [{'id': 16, 'name': 'Animation'}]\n",
      "359    [{'id': 10751, 'name': 'Family'}, {'id': 16, '...\n",
      "475    [{'id': 12, 'name': 'Adventure'}, {'id': 878, ...\n",
      "Name: genres, dtype: object\n"
     ]
    }
   ],
   "source": [
    "# Content-Based Filtering\n",
    "# Inspect the first few rows of the genres column\n",
    "print(movies['genres'].head(10))\n",
    "\n"
   ]
  },
  {
   "cell_type": "code",
   "execution_count": 17,
   "id": "24b3b4ed",
   "metadata": {},
   "outputs": [
    {
     "name": "stdout",
     "output_type": "stream",
     "text": [
      "Number of null entries in 'genres': 0\n",
      "Sample of null genres:\n",
      "Empty DataFrame\n",
      "Columns: [id, genres]\n",
      "Index: []\n"
     ]
    }
   ],
   "source": [
    "# Check for null or empty values in the genres column\n",
    "null_genres = movies[movies['genres'].isnull()]\n",
    "print(f\"Number of null entries in 'genres': {null_genres.shape[0]}\")\n",
    "print(\"Sample of null genres:\")\n",
    "print(null_genres[['id', 'genres']].head())"
   ]
  },
  {
   "cell_type": "code",
   "execution_count": 18,
   "id": "9fb13e6e",
   "metadata": {},
   "outputs": [
    {
     "name": "stdout",
     "output_type": "stream",
     "text": [
      "Data type of 'genres' column: object\n"
     ]
    }
   ],
   "source": [
    "# Check the data type of the 'genres' column\n",
    "print(\"Data type of 'genres' column:\", movies['genres'].dtype)"
   ]
  },
  {
   "cell_type": "code",
   "execution_count": 19,
   "id": "029eecf2",
   "metadata": {},
   "outputs": [
    {
     "name": "stdout",
     "output_type": "stream",
     "text": [
      "<class 'str'>\n"
     ]
    }
   ],
   "source": [
    "# Check the type of the first entry to understand its format\n",
    "print(type(movies['genres'].iloc[0]))\n",
    "\n"
   ]
  },
  {
   "cell_type": "code",
   "execution_count": 20,
   "id": "fefe0372",
   "metadata": {},
   "outputs": [],
   "source": [
    "# Function to convert the string representation of lists to actual lists\n",
    "def convert_genres_to_list(genre_string):\n",
    "    try:\n",
    "        # Use ast.literal_eval to safely evaluate the string as a Python literal\n",
    "        return ast.literal_eval(genre_string)\n",
    "    except (ValueError, SyntaxError):\n",
    "        return []\n"
   ]
  },
  {
   "cell_type": "code",
   "execution_count": 21,
   "id": "b98e1d9b",
   "metadata": {},
   "outputs": [
    {
     "name": "stdout",
     "output_type": "stream",
     "text": [
      "Converted Genres:\n",
      "[[{'id': 18, 'name': 'Drama'}, {'id': 10749, 'name': 'Romance'}], [{'id': 28, 'name': 'Action'}, {'id': 12, 'name': 'Adventure'}, {'id': 16, 'name': 'Animation'}, {'id': 10751, 'name': 'Family'}], [{'id': 35, 'name': 'Comedy'}], [{'id': 12, 'name': 'Adventure'}, {'id': 16, 'name': 'Animation'}, {'id': 35, 'name': 'Comedy'}, {'id': 10751, 'name': 'Family'}], [{'id': 10751, 'name': 'Family'}, {'id': 10402, 'name': 'Music'}, {'id': 10770, 'name': 'TV Movie'}], [{'id': 18, 'name': 'Drama'}, {'id': 14, 'name': 'Fantasy'}, {'id': 27, 'name': 'Horror'}], [{'id': 28, 'name': 'Action'}, {'id': 12, 'name': 'Adventure'}, {'id': 878, 'name': 'Science Fiction'}], [{'id': 35, 'name': 'Comedy'}, {'id': 10751, 'name': 'Family'}], [{'id': 12, 'name': 'Adventure'}, {'id': 28, 'name': 'Action'}, {'id': 53, 'name': 'Thriller'}], [{'id': 12, 'name': 'Adventure'}, {'id': 28, 'name': 'Action'}, {'id': 878, 'name': 'Science Fiction'}]]\n"
     ]
    }
   ],
   "source": [
    "# Apply the function to convert genres\n",
    "movies['genres'] = movies['genres'].apply(convert_genres_to_list)\n",
    "\n",
    "# Debugging: Check the converted genres\n",
    "print(\"Converted Genres:\")\n",
    "print(movies['genres'].sample(10).to_list())  \n",
    "\n"
   ]
  },
  {
   "cell_type": "code",
   "execution_count": 22,
   "id": "d0570d99",
   "metadata": {},
   "outputs": [
    {
     "name": "stdout",
     "output_type": "stream",
     "text": [
      "Extracted Genre Names:\n",
      "['Adventure Action Thriller', 'Comedy', 'Horror Action Thriller Crime', 'Comedy', 'Action Adventure Science Fiction Family Fantasy', 'Comedy', 'Adventure Action Science Fiction', 'Animation', 'Family Animation Drama', 'Adventure Science Fiction']\n"
     ]
    }
   ],
   "source": [
    "# Extract the genre names from the dictionaries\n",
    "def extract_genre_names(genres):\n",
    "    if isinstance(genres, list):\n",
    "        return ' '.join([genre['name'] for genre in genres if 'name' in genre])\n",
    "    return ''\n",
    "\n",
    "movies['genres'] = movies['genres'].apply(extract_genre_names)\n",
    "# Debug: Check the genres after extraction\n",
    "print(\"Extracted Genre Names:\")\n",
    "print(movies['genres'].head(10).to_list())"
   ]
  },
  {
   "cell_type": "code",
   "execution_count": 23,
   "id": "599a90d9",
   "metadata": {},
   "outputs": [
    {
     "name": "stdout",
     "output_type": "stream",
     "text": [
      "Shape of DataFrame after filtering empty genres: (693, 24)\n"
     ]
    }
   ],
   "source": [
    "# Filter out rows with empty genres\n",
    "movies = movies[movies['genres'] != '']\n",
    "# Debug: Check the shape of the DataFrame after filtering\n",
    "print(\"Shape of DataFrame after filtering empty genres:\", movies.shape)\n"
   ]
  },
  {
   "cell_type": "code",
   "execution_count": 24,
   "id": "11e68ad4",
   "metadata": {
    "scrolled": true
   },
   "outputs": [
    {
     "name": "stdout",
     "output_type": "stream",
     "text": [
      "First few entries of the genres column:\n",
      "['Adventure Action Thriller', 'Comedy', 'Horror Action Thriller Crime', 'Comedy', 'Action Adventure Science Fiction Family Fantasy', 'Comedy', 'Adventure Action Science Fiction', 'Animation', 'Family Animation Drama', 'Adventure Science Fiction']\n"
     ]
    }
   ],
   "source": [
    "# Create the genre matrix\n",
    "def create_genre_matrix(movies):\n",
    "    # Debug: Check if the 'genres' column exists and is not empty\n",
    "    if 'genres' not in movies.columns:\n",
    "        print(\"No 'genres' column found.\")\n",
    "        return None, None\n",
    "    if movies['genres'].empty:\n",
    "        print(\"The 'genres' column is empty.\")\n",
    "        return None, None\n",
    "    \n",
    "    # Debug: Print the first few entries of the genres column\n",
    "    print(\"First few entries of the genres column:\")\n",
    "    print(movies['genres'].head(10).to_list())\n",
    "    \n",
    "    count_vectorizer = CountVectorizer(tokenizer=lambda x: x.split(' '))  # Split genres by space\n",
    "    genre_matrix = count_vectorizer.fit_transform(movies['genres'])\n",
    "    return genre_matrix, count_vectorizer\n",
    "\n",
    "# Create the genre matrix\n",
    "genre_matrix, count_vectorizer = create_genre_matrix(movies)"
   ]
  },
  {
   "cell_type": "code",
   "execution_count": 25,
   "id": "4e5806e6",
   "metadata": {},
   "outputs": [
    {
     "name": "stdout",
     "output_type": "stream",
     "text": [
      "Genre matrix shape: (693, 22)\n"
     ]
    }
   ],
   "source": [
    "\n",
    "# Check the shape of the genre matrix\n",
    "if genre_matrix is not None:\n",
    "    print(\"Genre matrix shape:\", genre_matrix.shape)\n",
    "else:\n",
    "    print(\"Genre matrix could not be created.\")"
   ]
  },
  {
   "cell_type": "code",
   "execution_count": 26,
   "id": "efde7d30",
   "metadata": {},
   "outputs": [
    {
     "name": "stdout",
     "output_type": "stream",
     "text": [
      "Cosine similarity matrix shape: (693, 693)\n"
     ]
    }
   ],
   "source": [
    "\n",
    "# Calculate cosine similarity\n",
    "if genre_matrix is not None:\n",
    "    cosine_sim = cosine_similarity(genre_matrix)  # This should work with sparse matrix\n",
    "        \n",
    "    # Check the shape of the cosine similarity matrix\n",
    "    print(f\"Cosine similarity matrix shape: {cosine_sim.shape}\")\n",
    "else:\n",
    "    print(\"Failed to create genre matrix.\")\n",
    "\n"
   ]
  },
  {
   "cell_type": "code",
   "execution_count": 27,
   "id": "487a211d",
   "metadata": {},
   "outputs": [],
   "source": [
    "# Convert the 'id' column to integers\n",
    "movies['id'] = pd.to_numeric(movies['id'], errors='coerce')\n",
    "\n",
    "# Sample cosine similarity matrix (10x10 for 10 movies)\n",
    "cosine_sim = np.random.rand(len(movies), len(movies))  # Random similarity for demonstration\n",
    "cosine_sim = (cosine_sim + cosine_sim.T) / 2  # Make it symmetric\n",
    "np.fill_diagonal(cosine_sim, 1)  # Fill diagonal with 1s"
   ]
  },
  {
   "cell_type": "code",
   "execution_count": 28,
   "id": "a245c306",
   "metadata": {},
   "outputs": [
    {
     "name": "stdout",
     "output_type": "stream",
     "text": [
      "adult                     object\n",
      "belongs_to_collection     object\n",
      "budget                    object\n",
      "genres                    object\n",
      "homepage                  object\n",
      "id                         int64\n",
      "imdb_id                   object\n",
      "original_language         object\n",
      "original_title            object\n",
      "overview                  object\n",
      "popularity                object\n",
      "poster_path               object\n",
      "production_companies      object\n",
      "production_countries      object\n",
      "release_date              object\n",
      "revenue                  float64\n",
      "runtime                  float64\n",
      "spoken_languages          object\n",
      "status                    object\n",
      "tagline                   object\n",
      "title                     object\n",
      "video                     object\n",
      "vote_average             float64\n",
      "vote_count               float64\n",
      "dtype: object\n"
     ]
    }
   ],
   "source": [
    "print(movies.dtypes)"
   ]
  },
  {
   "cell_type": "code",
   "execution_count": 29,
   "id": "ecb21df7",
   "metadata": {},
   "outputs": [],
   "source": [
    "# Function to get content-based recommendations\n",
    "def content_based_recommendations(movie_id, num_recommendations=10):\n",
    "    # Check if movie_id exists in the DataFrame\n",
    "    if movie_id not in movies['id'].values:\n",
    "        print(f\"Movie ID {movie_id} not found.\")\n",
    "        return None\n",
    "\n",
    "    # Get the index of the movie\n",
    "    idx = movies[movies['id'] == movie_id].index[0]\n",
    "    \n",
    "    # Get the similarity scores\n",
    "    sim_scores = list(enumerate(cosine_sim[idx]))\n",
    "    \n",
    "    # Sort the movies based on similarity scores\n",
    "    sim_scores = sorted(sim_scores, key=lambda x: x[1], reverse=True)\n",
    "    \n",
    "    # Exclude the first entry (itself)\n",
    "    sim_scores = sim_scores[1:num_recommendations + 1]\n",
    "    \n",
    "    # Get the indices of the recommended movies\n",
    "    movie_indices = [i[0] for i in sim_scores]\n",
    "    \n",
    "    # Return the recommended movies\n",
    "    return movies.iloc[movie_indices]\n",
    "\n",
    "\n",
    "\n",
    "# Call the function with a valid movie_id\n",
    "recommended_movies = content_based_recommendations(movie_id=710, num_recommendations=2)\n",
    "\n"
   ]
  },
  {
   "cell_type": "code",
   "execution_count": 30,
   "id": "82968737",
   "metadata": {},
   "outputs": [
    {
     "name": "stdout",
     "output_type": "stream",
     "text": [
      "Recommended Movies (Content-Based):\n",
      "                       title                           genres\n",
      "18252  The Dark Knight Rises      Action Crime Drama Thriller\n",
      "13979              12 Rounds  Action Adventure Drama Thriller\n"
     ]
    }
   ],
   "source": [
    "\n",
    "# Print the recommendations\n",
    "if recommended_movies is not None:\n",
    "    print(\"Recommended Movies (Content-Based):\")\n",
    "    print(recommended_movies[['title', 'genres']])\n",
    "else:\n",
    "    print(\"No recommendations to display.\")\n",
    "\n"
   ]
  },
  {
   "cell_type": "code",
   "execution_count": 31,
   "id": "b13d7cb2",
   "metadata": {},
   "outputs": [
    {
     "name": "stdout",
     "output_type": "stream",
     "text": [
      "Top Recommendations Before Merging:\n",
      "     movieId  predicted_rating\n",
      "113      608          4.243614\n",
      "199     1248          4.056244\n",
      "14       954          4.051537\n",
      "112     2501          4.014710\n",
      "193     1246          3.905184\n",
      "182      920          3.900506\n",
      "277      534          3.884115\n",
      "201     1250          3.855760\n",
      "31       348          3.847730\n",
      "101      671          3.809949\n",
      "Top Recommendations After Merging:\n",
      "   movieId  predicted_rating    id                                     title\n",
      "0      608          4.243614   608                           Men in Black II\n",
      "1     1248          4.056244  1248                           Hannibal Rising\n",
      "2      954          4.051537   954                       Mission: Impossible\n",
      "3     2501          4.014710  2501                       The Bourne Identity\n",
      "4     1246          3.905184  1246                              Rocky Balboa\n",
      "5      920          3.900506   920                                      Cars\n",
      "6      534          3.884115   534                      Terminator Salvation\n",
      "7     1250          3.855760  1250                               Ghost Rider\n",
      "8      348          3.847730   348                                     Alien\n",
      "9      671          3.809949   671  Harry Potter and the Philosopher's Stone\n",
      "Collaborative Filtering Recommendations:\n",
      "                                      title  predicted_rating\n",
      "0                           Men in Black II          4.243614\n",
      "1                           Hannibal Rising          4.056244\n",
      "2                       Mission: Impossible          4.051537\n",
      "3                       The Bourne Identity          4.014710\n",
      "4                              Rocky Balboa          3.905184\n",
      "5                                      Cars          3.900506\n",
      "6                      Terminator Salvation          3.884115\n",
      "7                               Ghost Rider          3.855760\n",
      "8                                     Alien          3.847730\n",
      "9  Harry Potter and the Philosopher's Stone          3.809949\n"
     ]
    }
   ],
   "source": [
    "def recommend_movies(user_id, num_recommendations=10):\n",
    "    # Check if user_id exists in ratings\n",
    "    if user_id not in ratings['userId'].values:\n",
    "        print(f\"User  ID {user_id} not found in ratings.\")\n",
    "        return None\n",
    "\n",
    "    # Predict ratings for all movies the user hasn't rated yet\n",
    "    movie_ids = movies['id'].unique()\n",
    "    movie_ratings = []\n",
    "\n",
    "    for movie_id in movie_ids:\n",
    "        try:\n",
    "            predicted_rating = svd.predict(user_id, movie_id).est\n",
    "            movie_ratings.append(predicted_rating)\n",
    "        except Exception as e:\n",
    "            print(f\"Error predicting rating for movie ID {movie_id}: {e}\")\n",
    "            movie_ratings.append(np.nan)  # Append NaN if there's an error\n",
    "\n",
    "    # Create a DataFrame of movie ids and predicted ratings\n",
    "    recommendations = pd.DataFrame({\n",
    "        'movieId': movie_ids,\n",
    "        'predicted_rating': movie_ratings\n",
    "    })\n",
    "\n",
    "    # Sort the DataFrame by predicted rating in descending order\n",
    "    recommendations = recommendations.sort_values(by='predicted_rating', ascending=False)\n",
    "\n",
    "    # Get the top N recommended movies\n",
    "    top_recommendations = recommendations.head(num_recommendations)\n",
    "\n",
    "    # Check if there are any recommendations\n",
    "    if top_recommendations.empty:\n",
    "        print(\"No recommendations found.\")\n",
    "        return None\n",
    "    # Check the contents of top_recommendations before merging\n",
    "    print(\"Top Recommendations Before Merging:\")\n",
    "    print(top_recommendations)\n",
    "\n",
    "    # Merge with the movies DataFrame to get movie titles\n",
    "    top_recommendations = pd.merge(top_recommendations, movies[['id', 'title']], left_on='movieId', right_on='id')\n",
    "    \n",
    "    # Check the result of the merge\n",
    "    print(\"Top Recommendations After Merging:\")\n",
    "    print(top_recommendations)\n",
    "\n",
    "    return top_recommendations\n",
    "\n",
    "# Example usage of collaborative filtering recommendations\n",
    "recommendations = recommend_movies(user_id=7, num_recommendations=10)\n",
    "\n",
    "\n",
    "\n",
    "# Print the recommendations\n",
    "if recommendations is not None:\n",
    "    print(\"Collaborative Filtering Recommendations:\")\n",
    "    print(recommendations[['title', 'predicted_rating']])\n",
    "else:\n",
    "    print(\"No recommendations to display.\")\n",
    "\n"
   ]
  },
  {
   "cell_type": "code",
   "execution_count": null,
   "id": "1003c7fc",
   "metadata": {},
   "outputs": [],
   "source": []
  }
 ],
 "metadata": {
  "kernelspec": {
   "display_name": "Python 3 (ipykernel)",
   "language": "python",
   "name": "python3"
  },
  "language_info": {
   "codemirror_mode": {
    "name": "ipython",
    "version": 3
   },
   "file_extension": ".py",
   "mimetype": "text/x-python",
   "name": "python",
   "nbconvert_exporter": "python",
   "pygments_lexer": "ipython3",
   "version": "3.7.7"
  }
 },
 "nbformat": 4,
 "nbformat_minor": 5
}
